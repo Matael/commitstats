{
 "metadata": {
  "name": "Untitled0"
 },
 "nbformat": 3,
 "nbformat_minor": 0,
 "worksheets": [
  {
   "cells": [
    {
     "cell_type": "markdown",
     "metadata": {},
     "source": [
      "CommitStats Pre-Tests\n",
      "=====================\n",
      "\n",
      "On cherche \u00e0 r\u00e9cup\u00e9rer les *events* d'un *user* Github en filtrant pour ne garder que les **PushEvent**.\n",
      "Ensuite, on isole les commits et on fait un peu de stats dessus.\n",
      "\n",
      "Plusieurs modules existent en Python pour Github, ici (comme souvent) le plus simple est le mieux : *requests* suffira."
     ]
    },
    {
     "cell_type": "markdown",
     "metadata": {},
     "source": [
      "Configuration\n",
      "-------------\n",
      "\n",
      "`USERNAME` permet de choisir l'user qui sert de \"source\". Il est reli\u00e9 \u00e0 tous les d\u00e9pots d'int\u00e9ret."
     ]
    },
    {
     "cell_type": "code",
     "collapsed": false,
     "input": [
      "USERNAME = \"Matael\"\n",
      "DEPTH = 3 #nombre de pages \u00e0 analyser"
     ],
     "language": "python",
     "metadata": {},
     "outputs": [],
     "prompt_number": 15
    },
    {
     "cell_type": "code",
     "collapsed": false,
     "input": [
      "import requests\n",
      "\n",
      "base_url = \"https://api.github.com/users/{}/received_events/public\".format(USERNAME)"
     ],
     "language": "python",
     "metadata": {},
     "outputs": [],
     "prompt_number": 16
    },
    {
     "cell_type": "code",
     "collapsed": false,
     "input": [
      "pushevents = []\n",
      "\n",
      "for i in range(1,DEPTH+1):\n",
      "    jsonresp = requests.get(base_url+'?page={}'.format(str(i))).json()\n",
      "    for ev in jsonresp:\n",
      "        if ev['type']=='PushEvent':\n",
      "            pushevents.append(ev)"
     ],
     "language": "python",
     "metadata": {},
     "outputs": [],
     "prompt_number": 18
    },
    {
     "cell_type": "markdown",
     "metadata": {},
     "source": [
      "A ce point, `pushevents` est normalement tri\u00e9 dans l'ordre d\u00e9croissant des dates."
     ]
    },
    {
     "cell_type": "code",
     "collapsed": false,
     "input": [
      "def repo_sort(pushevents):\n",
      "    \"\"\" Trie les push events par repo (en notant le nombre de commits total par repo) \"\"\"\n",
      "    \n",
      "    repos = {}\n",
      "    for ev in pushevents:\n",
      "        reponame = ev['repo']['name']\n",
      "        if not repos.get(reponame): #  le d\u00e9pot n'est pas encore dans la liste\n",
      "            repos[reponame] = 0\n",
      "        repos[reponame] += ev['payload']['distinct_size']\n",
      "        \n",
      "    return repos            "
     ],
     "language": "python",
     "metadata": {},
     "outputs": [],
     "prompt_number": 30
    },
    {
     "cell_type": "code",
     "collapsed": false,
     "input": [
      "repos = repo_sort(pushevents)\n",
      "sum(repos.values())"
     ],
     "language": "python",
     "metadata": {},
     "outputs": [
      {
       "output_type": "pyout",
       "prompt_number": 34,
       "text": [
        "25"
       ]
      }
     ],
     "prompt_number": 34
    },
    {
     "cell_type": "markdown",
     "metadata": {},
     "source": [
      "#### Style"
     ]
    },
    {
     "cell_type": "code",
     "collapsed": false,
     "input": [
      "from IPython.core.display import HTML\n",
      "def css_styling():\n",
      "    styles = open(\"ipynb/custom.css\", \"r\").read()\n",
      "    return HTML(styles)\n",
      "#css_styling()"
     ],
     "language": "python",
     "metadata": {},
     "outputs": [],
     "prompt_number": 8
    },
    {
     "cell_type": "code",
     "collapsed": false,
     "input": [],
     "language": "python",
     "metadata": {},
     "outputs": []
    }
   ],
   "metadata": {}
  }
 ]
}